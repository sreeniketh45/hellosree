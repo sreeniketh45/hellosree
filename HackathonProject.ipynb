{
  "nbformat": 4,
  "nbformat_minor": 0,
  "metadata": {
    "colab": {
      "name": "HackathonProject.ipynb",
      "provenance": [],
      "collapsed_sections": [],
      "authorship_tag": "ABX9TyOJ3TA7xp9XIFbrfobO2AfK",
      "include_colab_link": true
    },
    "kernelspec": {
      "name": "python3",
      "display_name": "Python 3"
    },
    "language_info": {
      "name": "python"
    }
  },
  "cells": [
    {
      "cell_type": "markdown",
      "metadata": {
        "id": "view-in-github",
        "colab_type": "text"
      },
      "source": [
        "<a href=\"https://colab.research.google.com/github/sreeniketh45/hello-sree/blob/main/HackathonProject.ipynb\" target=\"_parent\"><img src=\"https://colab.research.google.com/assets/colab-badge.svg\" alt=\"Open In Colab\"/></a>"
      ]
    },
    {
      "cell_type": "code",
      "execution_count": null,
      "metadata": {
        "id": "gchtuWp6zC-K"
      },
      "outputs": [],
      "source": [
        "!pip install --upgrade transformers 3.0.2\n",
        "!pip install --upgrade git+https://github.com/huggingface/transformers.git"
      ]
    },
    {
      "cell_type": "code",
      "source": [
        "import pandas as pd\n",
        "import tensorflow as tf\n",
        "import torch as t\n",
        "import transformers\n",
        "from transformers import pipeline"
      ],
      "metadata": {
        "id": "thdRf3EszlET"
      },
      "execution_count": 68,
      "outputs": []
    },
    {
      "cell_type": "code",
      "source": [
        "classifier = pipeline(\"sentiment-analysis\")\n",
        "global inputDataSetPath\n",
        "inputDataSetPath = \"/content/TestData.dat\""
      ],
      "metadata": {
        "colab": {
          "base_uri": "https://localhost:8080/"
        },
        "id": "qLgo7v9U6Sp3",
        "outputId": "04aa49e3-6138-40e3-b0fd-3df57ac9550f"
      },
      "execution_count": 69,
      "outputs": [
        {
          "output_type": "stream",
          "name": "stderr",
          "text": [
            "No model was supplied, defaulted to distilbert-base-uncased-finetuned-sst-2-english and revision af0f99b (https://huggingface.co/distilbert-base-uncased-finetuned-sst-2-english).\n",
            "Using a pipeline without specifying a model name and revision in production is not recommended.\n"
          ]
        }
      ]
    },
    {
      "cell_type": "code",
      "source": [
        "def readInputDataset(path):\n",
        "  offers = pd.read_csv(path , sep=',' , engine='python' , header=None)\n",
        "  offers.columns = [offers[0][0],offers[1][0],offers[2][0],offers[3][0],offers[4][0],offers[5][0],offers[6][0],offers[7][0]]\n",
        "  offers.drop([0], axis=0, inplace=True)\n",
        "  print(\"Scanned Input Data Set!\")\n",
        "  return offers"
      ],
      "metadata": {
        "id": "pLvUp7Vpz23a"
      },
      "execution_count": 70,
      "outputs": []
    },
    {
      "cell_type": "code",
      "source": [
        "def filter_Records(lobName, locationName, offers):\n",
        "  filteredOffers = offers[offers['Lob'].str.contains(lobName, na = False)]\n",
        "  filteredOffers = filteredOffers[filteredOffers['Location'].str.contains(locationName, na = False)]\n",
        "  print(\"Filtered the Records Based on User Selected Location and LOB\")\n",
        "  return filteredOffers"
      ],
      "metadata": {
        "id": "KetjPc6M0G-6"
      },
      "execution_count": 71,
      "outputs": []
    },
    {
      "cell_type": "code",
      "source": [
        "def sentimental_analysis(User_Review):\n",
        "  dataFrame = [User_Review]\n",
        "  candidate_labels = ['negative', 'positive']\n",
        "  reviewDetails = classifier(dataFrame, candidate_labels)\n",
        "  reviewDict = reviewDetails[0]\n",
        "  return reviewDict"
      ],
      "metadata": {
        "id": "cmbEbHjP0bFT"
      },
      "execution_count": 80,
      "outputs": []
    },
    {
      "cell_type": "code",
      "source": [
        "def getReviewsSentimentalAnalysis(filteredOffers):\n",
        "  reviewpercentlist = []\n",
        "  for i in filteredOffers['User_Review']:\n",
        "    reviewDict = sentimental_analysis(i)\n",
        "    boolean_label = reviewDict.get('label')\n",
        "    percent = reviewDict.get('score')\n",
        "    percent = percent*100\n",
        "    if(boolean_label=='NEGATIVE'):\n",
        "      percent=percent*-1\n",
        "    reviewpercentlist.append(percent);\n",
        "  filteredOffers['Review_Percent']= reviewpercentlist\n",
        "  return filteredOffers"
      ],
      "metadata": {
        "id": "kS5hdA9C00c0"
      },
      "execution_count": 91,
      "outputs": []
    },
    {
      "cell_type": "code",
      "source": [
        "def sortDataframe(filteredOffers):\n",
        "  final_dataFrame = filteredOffers.sort_values(by = [\"Review_Percent\",\"No_Of_Orders\"], ascending=False)\n",
        "  return final_dataFrame"
      ],
      "metadata": {
        "id": "Qg2D9F6X1q_C"
      },
      "execution_count": 103,
      "outputs": []
    },
    {
      "cell_type": "code",
      "source": [
        "def getOffers(lob_Name,location_Name):\n",
        "  offers = readInputDataset(inputDataSetPath)\n",
        "  filteredOffers = filter_Records(lob_Name,location_Name,offers)\n",
        "  filteredOffers = getReviewsSentimentalAnalysis(filteredOffers)\n",
        "  bestOfferDataFrame = sortDataframe(filteredOffers)\n",
        "  return bestOfferDataFrame.head(5)"
      ],
      "metadata": {
        "id": "3_nNPFym10Wp"
      },
      "execution_count": 99,
      "outputs": []
    },
    {
      "cell_type": "code",
      "source": [
        "bestOfferDataFrame = getOffers('Broadband','Bengaluru')\n",
        "print(\"Fetched the Best Offers for You! Please Find them Below : \")\n",
        "bestOfferDataFrame"
      ],
      "metadata": {
        "colab": {
          "base_uri": "https://localhost:8080/",
          "height": 296
        },
        "id": "UJmtMc012R-6",
        "outputId": "9f09043a-1ff6-4757-cd29-0750db07e197"
      },
      "execution_count": 104,
      "outputs": [
        {
          "output_type": "stream",
          "name": "stderr",
          "text": [
            "Ignoring args : (['negative', 'positive'],)\n",
            "Ignoring args : (['negative', 'positive'],)\n",
            "Ignoring args : (['negative', 'positive'],)\n",
            "Ignoring args : (['negative', 'positive'],)\n"
          ]
        },
        {
          "output_type": "stream",
          "name": "stdout",
          "text": [
            "Scanned Input Data Set!\n",
            "Filtered the Records Based on User Selected Location and LOB\n",
            "Fetched the Best Offers for You! Please Find them Below : \n"
          ]
        },
        {
          "output_type": "execute_result",
          "data": {
            "text/plain": [
              "  Sl.No Offer_Id   Location No_Of_Orders No_Of_Opportunities No_Of_Renewals  \\\n",
              "3     3   BROD10  Bengaluru          100                 120             30   \n",
              "1     1   BROD40  Bengaluru          200                 300            100   \n",
              "2     2   BROD30  Bengaluru          100                 150             30   \n",
              "4     4   BROD70  Bengaluru           60                  90              5   \n",
              "\n",
              "         Lob                User_Review  Review_Percent  \n",
              "3  Broadband          This is Excellent       99.986136  \n",
              "1  Broadband          This is Very Good       99.984396  \n",
              "2  Broadband  This Could be More Better      -99.724579  \n",
              "4  Broadband  Very Poor and Worst Speed      -99.980980  "
            ],
            "text/html": [
              "\n",
              "  <div id=\"df-22b54500-2f17-412a-90e6-9ceb056bbcdc\">\n",
              "    <div class=\"colab-df-container\">\n",
              "      <div>\n",
              "<style scoped>\n",
              "    .dataframe tbody tr th:only-of-type {\n",
              "        vertical-align: middle;\n",
              "    }\n",
              "\n",
              "    .dataframe tbody tr th {\n",
              "        vertical-align: top;\n",
              "    }\n",
              "\n",
              "    .dataframe thead th {\n",
              "        text-align: right;\n",
              "    }\n",
              "</style>\n",
              "<table border=\"1\" class=\"dataframe\">\n",
              "  <thead>\n",
              "    <tr style=\"text-align: right;\">\n",
              "      <th></th>\n",
              "      <th>Sl.No</th>\n",
              "      <th>Offer_Id</th>\n",
              "      <th>Location</th>\n",
              "      <th>No_Of_Orders</th>\n",
              "      <th>No_Of_Opportunities</th>\n",
              "      <th>No_Of_Renewals</th>\n",
              "      <th>Lob</th>\n",
              "      <th>User_Review</th>\n",
              "      <th>Review_Percent</th>\n",
              "    </tr>\n",
              "  </thead>\n",
              "  <tbody>\n",
              "    <tr>\n",
              "      <th>3</th>\n",
              "      <td>3</td>\n",
              "      <td>BROD10</td>\n",
              "      <td>Bengaluru</td>\n",
              "      <td>100</td>\n",
              "      <td>120</td>\n",
              "      <td>30</td>\n",
              "      <td>Broadband</td>\n",
              "      <td>This is Excellent</td>\n",
              "      <td>99.986136</td>\n",
              "    </tr>\n",
              "    <tr>\n",
              "      <th>1</th>\n",
              "      <td>1</td>\n",
              "      <td>BROD40</td>\n",
              "      <td>Bengaluru</td>\n",
              "      <td>200</td>\n",
              "      <td>300</td>\n",
              "      <td>100</td>\n",
              "      <td>Broadband</td>\n",
              "      <td>This is Very Good</td>\n",
              "      <td>99.984396</td>\n",
              "    </tr>\n",
              "    <tr>\n",
              "      <th>2</th>\n",
              "      <td>2</td>\n",
              "      <td>BROD30</td>\n",
              "      <td>Bengaluru</td>\n",
              "      <td>100</td>\n",
              "      <td>150</td>\n",
              "      <td>30</td>\n",
              "      <td>Broadband</td>\n",
              "      <td>This Could be More Better</td>\n",
              "      <td>-99.724579</td>\n",
              "    </tr>\n",
              "    <tr>\n",
              "      <th>4</th>\n",
              "      <td>4</td>\n",
              "      <td>BROD70</td>\n",
              "      <td>Bengaluru</td>\n",
              "      <td>60</td>\n",
              "      <td>90</td>\n",
              "      <td>5</td>\n",
              "      <td>Broadband</td>\n",
              "      <td>Very Poor and Worst Speed</td>\n",
              "      <td>-99.980980</td>\n",
              "    </tr>\n",
              "  </tbody>\n",
              "</table>\n",
              "</div>\n",
              "      <button class=\"colab-df-convert\" onclick=\"convertToInteractive('df-22b54500-2f17-412a-90e6-9ceb056bbcdc')\"\n",
              "              title=\"Convert this dataframe to an interactive table.\"\n",
              "              style=\"display:none;\">\n",
              "        \n",
              "  <svg xmlns=\"http://www.w3.org/2000/svg\" height=\"24px\"viewBox=\"0 0 24 24\"\n",
              "       width=\"24px\">\n",
              "    <path d=\"M0 0h24v24H0V0z\" fill=\"none\"/>\n",
              "    <path d=\"M18.56 5.44l.94 2.06.94-2.06 2.06-.94-2.06-.94-.94-2.06-.94 2.06-2.06.94zm-11 1L8.5 8.5l.94-2.06 2.06-.94-2.06-.94L8.5 2.5l-.94 2.06-2.06.94zm10 10l.94 2.06.94-2.06 2.06-.94-2.06-.94-.94-2.06-.94 2.06-2.06.94z\"/><path d=\"M17.41 7.96l-1.37-1.37c-.4-.4-.92-.59-1.43-.59-.52 0-1.04.2-1.43.59L10.3 9.45l-7.72 7.72c-.78.78-.78 2.05 0 2.83L4 21.41c.39.39.9.59 1.41.59.51 0 1.02-.2 1.41-.59l7.78-7.78 2.81-2.81c.8-.78.8-2.07 0-2.86zM5.41 20L4 18.59l7.72-7.72 1.47 1.35L5.41 20z\"/>\n",
              "  </svg>\n",
              "      </button>\n",
              "      \n",
              "  <style>\n",
              "    .colab-df-container {\n",
              "      display:flex;\n",
              "      flex-wrap:wrap;\n",
              "      gap: 12px;\n",
              "    }\n",
              "\n",
              "    .colab-df-convert {\n",
              "      background-color: #E8F0FE;\n",
              "      border: none;\n",
              "      border-radius: 50%;\n",
              "      cursor: pointer;\n",
              "      display: none;\n",
              "      fill: #1967D2;\n",
              "      height: 32px;\n",
              "      padding: 0 0 0 0;\n",
              "      width: 32px;\n",
              "    }\n",
              "\n",
              "    .colab-df-convert:hover {\n",
              "      background-color: #E2EBFA;\n",
              "      box-shadow: 0px 1px 2px rgba(60, 64, 67, 0.3), 0px 1px 3px 1px rgba(60, 64, 67, 0.15);\n",
              "      fill: #174EA6;\n",
              "    }\n",
              "\n",
              "    [theme=dark] .colab-df-convert {\n",
              "      background-color: #3B4455;\n",
              "      fill: #D2E3FC;\n",
              "    }\n",
              "\n",
              "    [theme=dark] .colab-df-convert:hover {\n",
              "      background-color: #434B5C;\n",
              "      box-shadow: 0px 1px 3px 1px rgba(0, 0, 0, 0.15);\n",
              "      filter: drop-shadow(0px 1px 2px rgba(0, 0, 0, 0.3));\n",
              "      fill: #FFFFFF;\n",
              "    }\n",
              "  </style>\n",
              "\n",
              "      <script>\n",
              "        const buttonEl =\n",
              "          document.querySelector('#df-22b54500-2f17-412a-90e6-9ceb056bbcdc button.colab-df-convert');\n",
              "        buttonEl.style.display =\n",
              "          google.colab.kernel.accessAllowed ? 'block' : 'none';\n",
              "\n",
              "        async function convertToInteractive(key) {\n",
              "          const element = document.querySelector('#df-22b54500-2f17-412a-90e6-9ceb056bbcdc');\n",
              "          const dataTable =\n",
              "            await google.colab.kernel.invokeFunction('convertToInteractive',\n",
              "                                                     [key], {});\n",
              "          if (!dataTable) return;\n",
              "\n",
              "          const docLinkHtml = 'Like what you see? Visit the ' +\n",
              "            '<a target=\"_blank\" href=https://colab.research.google.com/notebooks/data_table.ipynb>data table notebook</a>'\n",
              "            + ' to learn more about interactive tables.';\n",
              "          element.innerHTML = '';\n",
              "          dataTable['output_type'] = 'display_data';\n",
              "          await google.colab.output.renderOutput(dataTable, element);\n",
              "          const docLink = document.createElement('div');\n",
              "          docLink.innerHTML = docLinkHtml;\n",
              "          element.appendChild(docLink);\n",
              "        }\n",
              "      </script>\n",
              "    </div>\n",
              "  </div>\n",
              "  "
            ]
          },
          "metadata": {},
          "execution_count": 104
        }
      ]
    }
  ]
}